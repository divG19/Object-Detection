{
 "cells": [
  {
   "cell_type": "code",
   "execution_count": 1,
   "id": "980f51a3",
   "metadata": {},
   "outputs": [],
   "source": [
    "import cv2\n",
    "import numpy as np"
   ]
  },
  {
   "cell_type": "code",
   "execution_count": 2,
   "id": "438fc48f",
   "metadata": {},
   "outputs": [],
   "source": [
    "net = cv2.dnn.readNet('yolov3.weights','yolov3.cfg')"
   ]
  },
  {
   "cell_type": "code",
   "execution_count": 3,
   "id": "99a3b105",
   "metadata": {},
   "outputs": [
    {
     "name": "stdout",
     "output_type": "stream",
     "text": [
      "['person', 'bicycle', 'car', 'motorbike', 'aeroplane', 'bus', 'train', 'truck', 'boat', 'traffic light', 'fire hydrant', 'stop sign', 'parking meter', 'bench', 'bird', 'cat', 'dog', 'horse', 'sheep', 'cow', 'elephant', 'bear', 'zebra', 'giraffe', 'backpack', 'umbrella', 'handbag', 'tie', 'suitcase', 'frisbee', 'skis', 'snowboard', 'sports ball', 'kite', 'baseball bat', 'baseball glove', 'skateboard', 'surfboard', 'tennis racket', 'bottle', 'wine glass', 'cup', 'fork', 'knife', 'spoon', 'bowl', 'banana', 'apple', 'sandwich', 'orange', 'broccoli', 'carrot', 'hot dog', 'pizza', 'donut', 'cake', 'chair', 'sofa', 'pottedplant', 'bed', 'diningtable', 'toilet', 'tvmonitor', 'laptop', 'mouse', 'remote', 'keyboard', 'cell phone', 'microwave', 'oven', 'toaster', 'sink', 'refrigerator', 'book', 'clock', 'vase', 'scissors', 'teddy bear', 'hair drier', 'toothbrush']\n"
     ]
    }
   ],
   "source": [
    "classes = []\n",
    "with open('coco.names','r') as f:\n",
    "    classes = f.read().splitlines()\n",
    "print(classes)"
   ]
  },
  {
   "cell_type": "code",
   "execution_count": 7,
   "id": "11adbb6b",
   "metadata": {},
   "outputs": [],
   "source": [
    "img = cv2.imread('traffic_jam_1050x700.webp')\n",
    "height, width, _ = img.shape\n"
   ]
  },
  {
   "cell_type": "code",
   "execution_count": 8,
   "id": "15cf9bf7",
   "metadata": {},
   "outputs": [],
   "source": [
    "blob = cv2.dnn.blobFromImage(img, 1/255, (1050,700), (0,0,0), swapRB = True, crop = False)\n",
    "for b in blob:\n",
    "    for n, img_blob in enumerate(b):\n",
    "        cv2.imshow(str(n), img_blob)\n",
    "cv2.imshow('Image',img)\n",
    "cv2.waitKey(0)\n",
    "cv2.destroyAllWindows()"
   ]
  },
  {
   "cell_type": "code",
   "execution_count": 9,
   "id": "0341f134",
   "metadata": {},
   "outputs": [],
   "source": [
    "net.setInput(blob)\n",
    "\n",
    "output_layers_names = net.getUnconnectedOutLayersNames()\n",
    "layersOutputs = net.forward(output_layers_names)"
   ]
  },
  {
   "cell_type": "code",
   "execution_count": 12,
   "id": "97c17341",
   "metadata": {},
   "outputs": [],
   "source": [
    "boxes = []\n",
    "confidences = []\n",
    "class_ids = []\n",
    "\n",
    "for output in layersOutputs:\n",
    "    for detection in output:\n",
    "        scores = detection[5:] #All 80 class scores\n",
    "        class_id = np.argmax(scores) #Extract which class has max score\n",
    "        confidence = scores[class_id] #Extract what is that highest score\n",
    "        \n",
    "        if confidence > 0.5:\n",
    "            center_x = int(detection[0]*width)\n",
    "            center_y = int(detection[1]*height)\n",
    "            w = int(detection[2]*width)\n",
    "            h = int(detection[3]*height)\n",
    "            \n",
    "            x = int(center_x - w/2)\n",
    "            y = int(center_y - h/2)\n",
    "            \n",
    "            boxes.append([x,y,w,h])\n",
    "            confidences.append((float(confidence)))\n",
    "            class_ids.append(int(class_id))\n",
    "            "
   ]
  },
  {
   "cell_type": "code",
   "execution_count": 13,
   "id": "317aebbe",
   "metadata": {},
   "outputs": [
    {
     "name": "stdout",
     "output_type": "stream",
     "text": [
      "308\n",
      "[ 76  54  68  61  91  87  45  63  78  36 168  56  65 149  83  57  24  28\n",
      " 197  39  93 153 126 208  31 188 233 212 114 187 248 180 159 178 131 164\n",
      "  41 183 166 195 137  51  15 286 259  59 283  72 295 175 128  52 191 115\n",
      " 190 141 206 243 143 155 221  96 111 263 250  34 307   5 218 123 174 135\n",
      " 146 107 262 269  82 129 272 281  99 226 113 154 274 279 273 261 294 298\n",
      " 264 184 265 103 121 260 271 268 288 303 282 285 132 112 105 161 277 100\n",
      " 289 278 203 304 267 276 287]\n"
     ]
    }
   ],
   "source": [
    "print(len(boxes))\n",
    "indexes = cv2.dnn.NMSBoxes(boxes, confidences, 0.5, 0.4)\n",
    "print(indexes.flatten())"
   ]
  },
  {
   "cell_type": "code",
   "execution_count": 15,
   "id": "573e409e",
   "metadata": {},
   "outputs": [],
   "source": [
    "font = cv2.FONT_HERSHEY_PLAIN\n",
    "colors = np.random.uniform(0, 255, size = (len(boxes), 3))\n",
    "\n",
    "for i in indexes.flatten():\n",
    "    x, y, w, h = boxes[i]\n",
    "    label = str(classes[class_ids[i]])\n",
    "    confidence = str(round(confidences[i], 2))\n",
    "    color = colors[i]\n",
    "    cv2.rectangle(img, (x,y), (x + w, y + h), color, 2)\n",
    "    cv2.putText(img, label + \" \" + confidence, (x, y + 20), font, 2, (255, 255, 255), 2)\n",
    "\n",
    "cv2.imshow('Image',img)\n",
    "cv2.waitKey(0)\n",
    "cv2.destroyAllWindows()"
   ]
  },
  {
   "cell_type": "code",
   "execution_count": null,
   "id": "dae1d94d",
   "metadata": {},
   "outputs": [],
   "source": []
  }
 ],
 "metadata": {
  "kernelspec": {
   "display_name": "Python 3 (ipykernel)",
   "language": "python",
   "name": "python3"
  },
  "language_info": {
   "codemirror_mode": {
    "name": "ipython",
    "version": 3
   },
   "file_extension": ".py",
   "mimetype": "text/x-python",
   "name": "python",
   "nbconvert_exporter": "python",
   "pygments_lexer": "ipython3",
   "version": "3.9.12"
  }
 },
 "nbformat": 4,
 "nbformat_minor": 5
}
